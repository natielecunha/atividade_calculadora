{
  "nbformat": 4,
  "nbformat_minor": 0,
  "metadata": {
    "colab": {
      "provenance": []
    },
    "kernelspec": {
      "name": "python3",
      "display_name": "Python 3"
    },
    "language_info": {
      "name": "python"
    }
  },
  "cells": [
    {
      "cell_type": "markdown",
      "source": [
        "**Calculadora**"
      ],
      "metadata": {
        "id": "kUbx6ksQmCpL"
      }
    },
    {
      "cell_type": "code",
      "execution_count": 40,
      "metadata": {
        "colab": {
          "base_uri": "https://localhost:8080/"
        },
        "id": "tITq0Vyj0sEn",
        "outputId": "e28f95c6-cd1d-4616-e9f3-5962b02a2827"
      },
      "outputs": [
        {
          "output_type": "stream",
          "name": "stdout",
          "text": [
            "Olá, eu sou uma calculadora e vou te ajudar a calcular.\n",
            "Digite seu nome: nati\n",
            "Vamos lá, nati\n",
            "Digite o primeiro número: 2\n",
            "Digite o segundo número: 4\n",
            "Você digitou 2.0 e 4.0\n",
            "Agora escolha qual operação deseja executar (escolha entre os sinais correspondentes + - * /): +\n",
            "Você escolheu: +\n",
            "O resultado é 6.0\n"
          ]
        }
      ],
      "source": [
        "print(\"Olá, eu sou uma calculadora e vou te ajudar a calcular.\")\n",
        "\n",
        "nome = input(\"Digite seu nome: \")\n",
        "\n",
        "print(\"Vamos lá,\",nome)\n",
        "\n",
        "num1 = float(input(\"Digite o primeiro número: \"))\n",
        "num2 = float(input(\"Digite o segundo número: \"))\n",
        "\n",
        "print(\"Você digitou\",num1,\"e\",num2)\n",
        "\n",
        "op = input(\"Agora escolha qual operação deseja executar (escolha entre os sinais correspondentes + - * /): \")\n",
        "\n",
        "print(\"Você escolheu:\",op)\n",
        "\n",
        "if op == '+':\n",
        "  print(\"O resultado é\", num1 + num2)\n",
        "elif op == '-':\n",
        "  print(\"O resultado é\", num1 - num2)\n",
        "elif op == '*':\n",
        "  print(\"O resultado é\", num1 * num2)\n",
        "elif op == '/':\n",
        "  print(\"O resultado é\", num1 / num2)\n",
        "else:\n",
        "  print(\"Operação não reconhecida, tente outra vez\")\n",
        "\n",
        "\n",
        "\n"
      ]
    }
  ]
}